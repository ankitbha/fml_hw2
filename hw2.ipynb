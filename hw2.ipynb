{
 "cells": [
  {
   "cell_type": "code",
   "execution_count": 1,
   "id": "f76f167a",
   "metadata": {},
   "outputs": [],
   "source": [
    "%load_ext autoreload\n",
    "%autoreload 2\n",
    "\n",
    "from libsvm.svmutil import *\n",
    "import pandas as pd\n",
    "import numpy as np\n",
    "import scipy as sp"
   ]
  },
  {
   "cell_type": "code",
   "execution_count": 3,
   "id": "fbeaebfd",
   "metadata": {},
   "outputs": [],
   "source": [
    "with open('./abalone.data', 'r') as file:\n",
    "    input_data_str = file.read()\n",
    "    file.close()"
   ]
  },
  {
   "cell_type": "code",
   "execution_count": 4,
   "id": "9761d2cb",
   "metadata": {},
   "outputs": [],
   "source": [
    "input_data_list = input_data_str.split('\\n')[:-1]\n",
    "\n",
    "for i, point in enumerate(input_data_list):\n",
    "    new_point = point.replace('M', '1')\n",
    "    new_point = new_point.replace('F', '-1')\n",
    "    new_point = new_point.replace('I', '0')\n",
    "    input_data_list[i] = new_point\n",
    "\n",
    "for i, point in enumerate(input_data_list):\n",
    "    point_list = point.split(',')\n",
    "    point_list = [float(j) for j in point_list]\n",
    "    input_data_list[i] = point_list"
   ]
  },
  {
   "cell_type": "code",
   "execution_count": 5,
   "id": "65fd042f",
   "metadata": {},
   "outputs": [],
   "source": [
    "for i, input_line in enumerate(input_data_list):\n",
    "    age = input_line[-1]\n",
    "    input_line = input_line[:-1]\n",
    "    for j in range(len(input_line)):\n",
    "        input_line[j] = str(j+1)+':'+str(input_line[j])\n",
    "    if(age<10):\n",
    "        label = '-1'\n",
    "    else:\n",
    "        label = '+1'\n",
    "    input_line.insert(0,label)\n",
    "    input_data_list[i] = input_line\n",
    "\n",
    "for i, input_line in enumerate(input_data_list):\n",
    "    input_line = ' '.join(input_line)\n",
    "    input_data_list[i] = input_line"
   ]
  },
  {
   "cell_type": "code",
   "execution_count": 6,
   "id": "df55c6b6",
   "metadata": {},
   "outputs": [],
   "source": [
    "format_data_str = '\\n'.join(input_data_list)"
   ]
  },
  {
   "cell_type": "code",
   "execution_count": 7,
   "id": "575586b8",
   "metadata": {},
   "outputs": [],
   "source": [
    "with open('./abalone','w+') as file:\n",
    "    file.write(format_data_str)\n",
    "    file.close()"
   ]
  },
  {
   "cell_type": "code",
   "execution_count": 12,
   "id": "869240e7",
   "metadata": {},
   "outputs": [],
   "source": [
    "ytr, xtr = svm_read_problem('abalone.train', return_scipy=True)"
   ]
  },
  {
   "cell_type": "code",
   "execution_count": 13,
   "id": "778e755d",
   "metadata": {},
   "outputs": [],
   "source": [
    "scale_param = csr_find_scale_param(xtr, lower=0)"
   ]
  },
  {
   "cell_type": "code",
   "execution_count": 14,
   "id": "13b561b7",
   "metadata": {},
   "outputs": [
    {
     "name": "stderr",
     "output_type": "stream",
     "text": [
      "WARNING: original #nonzeros 24058\n",
      "       > new      #nonzeros 24082\n",
      "If feature values are non-negative and sparse, get scale_param by setting lower=0 rather than the default lower=-1.\n"
     ]
    }
   ],
   "source": [
    "scaled_xtr = csr_scale(xtr, scale_param)"
   ]
  },
  {
   "cell_type": "code",
   "execution_count": 15,
   "id": "6a4d5aa8",
   "metadata": {},
   "outputs": [],
   "source": [
    "yts, xts = svm_read_problem('abalone.test', return_scipy=True)"
   ]
  },
  {
   "cell_type": "code",
   "execution_count": 16,
   "id": "846714d8",
   "metadata": {},
   "outputs": [
    {
     "name": "stderr",
     "output_type": "stream",
     "text": [
      "WARNING: original #nonzeros 8014\n",
      "       > new      #nonzeros 8018\n",
      "If feature values are non-negative and sparse, get scale_param by setting lower=0 rather than the default lower=-1.\n"
     ]
    }
   ],
   "source": [
    "scaled_xts = csr_scale(xts, scale_param)"
   ]
  },
  {
   "cell_type": "code",
   "execution_count": 19,
   "id": "03c25a0e",
   "metadata": {
    "scrolled": true
   },
   "outputs": [
    {
     "data": {
      "text/plain": [
       "(1044, 8)"
      ]
     },
     "execution_count": 19,
     "metadata": {},
     "output_type": "execute_result"
    }
   ],
   "source": []
  },
  {
   "cell_type": "code",
   "execution_count": null,
   "id": "72691989",
   "metadata": {},
   "outputs": [],
   "source": []
  }
 ],
 "metadata": {
  "kernelspec": {
   "display_name": "Python 3 (ipykernel)",
   "language": "python",
   "name": "python3"
  },
  "language_info": {
   "codemirror_mode": {
    "name": "ipython",
    "version": 3
   },
   "file_extension": ".py",
   "mimetype": "text/x-python",
   "name": "python",
   "nbconvert_exporter": "python",
   "pygments_lexer": "ipython3",
   "version": "3.9.2"
  }
 },
 "nbformat": 4,
 "nbformat_minor": 5
}
